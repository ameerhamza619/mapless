{
 "cells": [
  {
   "cell_type": "code",
   "execution_count": 1,
   "metadata": {},
   "outputs": [],
   "source": [
    "from stable_baselines3.common.callbacks import CheckpointCallback\n",
    "from stable_baselines3.common.evaluation import evaluate_policy\n",
    "from stable_baselines3 import TD3\n",
    "from stable_baselines3.common.monitor import Monitor"
   ]
  },
  {
   "cell_type": "code",
   "execution_count": 2,
   "metadata": {},
   "outputs": [
    {
     "name": "stdout",
     "output_type": "stream",
     "text": [
      "device: cpu\n",
      "Loading weights:  weights/midas_v21_small-70d6b9c8.pt\n"
     ]
    },
    {
     "name": "stderr",
     "output_type": "stream",
     "text": [
      "Using cache found in /home/alpha/.cache/torch/hub/rwightman_gen-efficientnet-pytorch_master\n"
     ]
    }
   ],
   "source": [
    "from Env_c import Env"
   ]
  },
  {
   "cell_type": "code",
   "execution_count": 3,
   "metadata": {},
   "outputs": [
    {
     "name": "stderr",
     "output_type": "stream",
     "text": [
      "/home/alpha/py37-venv/lib/python3.7/site-packages/gym/spaces/box.py:74: UserWarning: \u001b[33mWARN: Box bound precision lowered by casting to float32\u001b[0m\n",
      "  \"Box bound precision lowered by casting to {}\".format(self.dtype)\n"
     ]
    },
    {
     "name": "stdout",
     "output_type": "stream",
     "text": [
      "[INFO] [1653097203.412860, 0.692000]: Model already exit\n"
     ]
    },
    {
     "data": {
      "text/plain": [
       "array([ 0.75294118,  0.76470588,  0.75686275,  0.75294118,  0.74901961,\n",
       "        0.74901961,  0.74117647,  0.70196078,  0.66666667,  0.60392157,\n",
       "        0.11173184, -0.        ,  0.        ,  0.2       ])"
      ]
     },
     "execution_count": 3,
     "metadata": {},
     "output_type": "execute_result"
    }
   ],
   "source": [
    "env = Env(is_training=False)\n",
    "env.reset()\n"
   ]
  },
  {
   "cell_type": "code",
   "execution_count": 4,
   "metadata": {},
   "outputs": [
    {
     "name": "stdout",
     "output_type": "stream",
     "text": [
      "Laser:  [0.201, 0.222, 0.592, 0.559, 0.54, 0.539, 0.558, 0.592, 0.229, 0.206] 0.201\n",
      "Depth:  [0.985, 1.0, 0.99, 0.985, 0.979, 0.979, 0.969, 0.918, 0.872, 0.79] 0.79\n"
     ]
    }
   ],
   "source": [
    "laser = [round(i/3.5, 3) for i in env.laser]\n",
    "depth = [round(i/max(env.depth), 3) for i in env.depth]\n",
    "\n",
    "print(\"Laser: \", laser, min(laser))\n",
    "print(\"Depth: \", depth[:10], min(depth[:10]))"
   ]
  },
  {
   "cell_type": "code",
   "execution_count": null,
   "metadata": {},
   "outputs": [],
   "source": [
    "# action = env.action_space.sample()\n",
    "n_state, reward, done, info = env.step([0,0])"
   ]
  },
  {
   "cell_type": "markdown",
   "metadata": {},
   "source": [
    "### Eval"
   ]
  },
  {
   "cell_type": "code",
   "execution_count": null,
   "metadata": {},
   "outputs": [],
   "source": [
    "env = Env(is_training=False)\n",
    "# env = Monitor(env, filename=\"log.txt\" ,info_keywords=(\"collide\", \"goal\", 'limit'))\n",
    "env.reset()\n",
    "\n",
    "path = 'models/TD3_C/TD3_C_200000_steps'\n",
    "model = TD3.load(path, env=env)"
   ]
  },
  {
   "cell_type": "code",
   "execution_count": null,
   "metadata": {},
   "outputs": [],
   "source": [
    "evaluate_policy(model, env, n_eval_episodes=10, deterministic=True)"
   ]
  },
  {
   "cell_type": "markdown",
   "metadata": {},
   "source": [
    "### Test"
   ]
  },
  {
   "cell_type": "code",
   "execution_count": 5,
   "metadata": {},
   "outputs": [
    {
     "name": "stdout",
     "output_type": "stream",
     "text": [
      "[INFO] [1653097205.642787, 0.663000]: Model already exit\n",
      "Wrapping the env with a `Monitor` wrapper\n",
      "Wrapping the env in a DummyVecEnv.\n"
     ]
    }
   ],
   "source": [
    "env = Env(is_training=False)\n",
    "# env = Monitor(env, filename=\"log.txt\" ,info_keywords=(\"collide\", \"goal\", 'limit'))\n",
    "env.reset()\n",
    "\n",
    "path = 'TD3_C_195000_steps'\n",
    "model = TD3.load(path, env=env)"
   ]
  },
  {
   "cell_type": "code",
   "execution_count": 6,
   "metadata": {},
   "outputs": [
    {
     "name": "stdout",
     "output_type": "stream",
     "text": [
      "[-0.36564344  0.4       ]\n",
      "[-0.33733308  0.4       ]\n",
      "[0.1654501 0.4      ]\n",
      "[0.17251122 0.4       ]\n",
      "[INFO] [1653097209.825940, 1.318000]: Goal!!\n",
      "[0.10383189 0.4       ]\n",
      "[1.         0.39999914]\n",
      "[1.         0.39993596]\n",
      "[0.99930763 0.4       ]\n",
      "[0.9715544 0.4      ]\n",
      "[0.78816843 0.4       ]\n",
      "[0.4740641 0.4      ]\n",
      "[0.89972687 0.4       ]\n",
      "[0.31853056 0.01156832]\n",
      "[0.43434632 0.00359143]\n",
      "[0.36356175 0.09268927]\n",
      "[0.4129014  0.08093949]\n",
      "[0.4319768 0.136288 ]\n",
      "[0.43379176 0.11737694]\n",
      "[0.4671073  0.11310327]\n"
     ]
    },
    {
     "name": "stderr",
     "output_type": "stream",
     "text": [
      "Exception in thread /scan:\n",
      "Traceback (most recent call last):\n",
      "  File \"/usr/lib/python3.7/threading.py\", line 926, in _bootstrap_inner\n",
      "    self.run()\n",
      "  File \"/usr/lib/python3.7/threading.py\", line 870, in run\n",
      "    self._target(*self._args, **self._kwargs)\n",
      "  File \"/opt/ros/noetic/lib/python3/dist-packages/rospy/impl/tcpros_pubsub.py\", line 185, in robust_connect_subscriber\n",
      "    conn.receive_loop(receive_cb)\n",
      "  File \"/opt/ros/noetic/lib/python3/dist-packages/rospy/impl/tcpros_base.py\", line 846, in receive_loop\n",
      "    self.close()\n",
      "  File \"/opt/ros/noetic/lib/python3/dist-packages/rospy/impl/tcpros_base.py\", line 858, in close\n",
      "    self.socket.close()\n",
      "AttributeError: 'NoneType' object has no attribute 'close'\n",
      "\n"
     ]
    },
    {
     "name": "stdout",
     "output_type": "stream",
     "text": [
      "[0.4511237  0.14900377]\n",
      "[0.4553876  0.14212577]\n",
      "[-0.17961097  0.1918145 ]\n",
      "[-0.18051934  0.19075446]\n",
      "[-0.1487928  0.3541327]\n",
      "[-0.14983684  0.34956738]\n",
      "[-0.21448565  0.34183827]\n",
      "[-0.21935177  0.29908377]\n",
      "[-0.22047007  0.29897544]\n",
      "[-0.24959219  0.29785705]\n",
      "[-0.2619171  0.2921133]\n",
      "[-0.40418607  0.3077889 ]\n",
      "[-0.47113037  0.294813  ]\n",
      "[INFO] [1653097222.169283, 11.148000]: Collision!!\n",
      "[-0.9999542   0.39999986]\n",
      "[-0.9999564   0.39999986]\n",
      "[-0.99979395  0.39999983]\n",
      "[-0.9998183   0.39999983]\n",
      "[-0.99901193  0.39999914]\n",
      "[-0.99659854  0.39999756]\n",
      "[-0.9816999  0.3999954]\n",
      "[-0.8485859   0.39999938]\n",
      "[INFO] [1653097226.750863, 2.775000]: Collision!!\n",
      "[0.9999428  0.39989313]\n",
      "[0.9999852 0.3998148]\n",
      "[0.9992541 0.4      ]\n",
      "[0.99987316 0.4       ]\n",
      "[0.9998112 0.4      ]\n",
      "[0.9976804 0.4      ]\n",
      "[0.97308564 0.4       ]\n",
      "[0.95051813 0.4       ]\n",
      "[0.84906554 0.4       ]\n",
      "[INFO] [1653097231.353319, 3.028000]: Collision!!\n",
      "[-0.99998575  0.39999995]\n",
      "[-0.99998486  0.39999992]\n",
      "[-0.9999418   0.39999986]\n",
      "[-0.9999415   0.39999986]\n",
      "[-0.99992186  0.39999992]\n"
     ]
    },
    {
     "name": "stderr",
     "output_type": "stream",
     "text": [
      "Exception in thread /camera1/image_raw:\n",
      "Traceback (most recent call last):\n",
      "  File \"/usr/lib/python3.7/threading.py\", line 926, in _bootstrap_inner\n",
      "    self.run()\n",
      "  File \"/usr/lib/python3.7/threading.py\", line 870, in run\n",
      "    self._target(*self._args, **self._kwargs)\n",
      "  File \"/opt/ros/noetic/lib/python3/dist-packages/rospy/impl/tcpros_pubsub.py\", line 185, in robust_connect_subscriber\n",
      "    conn.receive_loop(receive_cb)\n",
      "  File \"/opt/ros/noetic/lib/python3/dist-packages/rospy/impl/tcpros_base.py\", line 846, in receive_loop\n",
      "    self.close()\n",
      "  File \"/opt/ros/noetic/lib/python3/dist-packages/rospy/impl/tcpros_base.py\", line 858, in close\n",
      "    self.socket.close()\n",
      "AttributeError: 'NoneType' object has no attribute 'close'\n",
      "\n"
     ]
    },
    {
     "name": "stdout",
     "output_type": "stream",
     "text": [
      "[-0.99983543  0.39999995]\n",
      "[-0.99936473  0.39999983]\n",
      "[-0.9943171  0.3999991]\n",
      "[INFO] [1653097235.789680, 2.744000]: Collision!!\n"
     ]
    },
    {
     "name": "stderr",
     "output_type": "stream",
     "text": [
      "Exception in thread /camera1/image_raw:\n",
      "Traceback (most recent call last):\n",
      "  File \"/usr/lib/python3.7/threading.py\", line 926, in _bootstrap_inner\n",
      "    self.run()\n",
      "  File \"/usr/lib/python3.7/threading.py\", line 870, in run\n",
      "    self._target(*self._args, **self._kwargs)\n",
      "  File \"/opt/ros/noetic/lib/python3/dist-packages/rospy/impl/tcpros_pubsub.py\", line 185, in robust_connect_subscriber\n",
      "    conn.receive_loop(receive_cb)\n",
      "  File \"/opt/ros/noetic/lib/python3/dist-packages/rospy/impl/tcpros_base.py\", line 846, in receive_loop\n",
      "    self.close()\n",
      "  File \"/opt/ros/noetic/lib/python3/dist-packages/rospy/impl/tcpros_base.py\", line 858, in close\n",
      "    self.socket.close()\n",
      "AttributeError: 'NoneType' object has no attribute 'close'\n",
      "\n"
     ]
    },
    {
     "name": "stdout",
     "output_type": "stream",
     "text": [
      "[1.         0.38885033]\n",
      "[1.         0.38885033]\n",
      "[0.99944675 0.4       ]\n",
      "[0.99957514 0.4       ]\n",
      "[0.9969419  0.39999998]\n",
      "[0.97859657 0.4       ]\n",
      "[0.65904236 0.4       ]\n",
      "[0.45972347 0.4       ]\n",
      "[0.6599028 0.4      ]\n",
      "[0.63136077 0.39996397]\n",
      "[INFO] [1653097240.653306, 3.007000]: Collision!!\n",
      "[0.47087717 0.32825938]\n",
      "[0.45926344 0.32231236]\n",
      "[0.39587128 0.32489967]\n",
      "[0.39845192 0.34226224]\n",
      "[0.9999995  0.37400797]\n",
      "[0.99999475 0.39519495]\n",
      "[0.9980173  0.39999905]\n",
      "[0.9611001  0.39999908]\n",
      "[INFO] [1653097245.542645, 3.113000]: Collision!!\n",
      "[0.91727066 0.2771265 ]\n",
      "[0.91581106 0.27561197]\n",
      "[0.13717616 0.18477193]\n",
      "[0.29558623 0.17594753]\n",
      "[0.9189744  0.25791416]\n",
      "[0.8778024  0.28442714]\n",
      "[0.7327757  0.39618275]\n",
      "[0.6546056  0.39999363]\n",
      "[0.49084055 0.39999992]\n",
      "[INFO] [1653097251.022993, 3.562000]: Collision!!\n",
      "[0.14080167 0.39999995]\n",
      "[0.14173245 0.39999995]\n",
      "[0.23977244 0.4       ]\n",
      "[0.24397194 0.4       ]\n",
      "[0.3223765 0.4      ]\n",
      "[0.5081309 0.4      ]\n",
      "[0.6300194 0.4      ]\n",
      "[8.8004708e-02 1.1920929e-08]\n",
      "[1.9340420e-01 4.7683717e-08]\n",
      "[9.8241174e-01 1.8441677e-05]\n",
      "[0.8364179  0.38778883]\n",
      "[0.8385664  0.12388878]\n",
      "[0.99076295 0.31214115]\n",
      "[0.99990547 0.00397108]\n",
      "[0.9999943  0.16028593]\n",
      "[1.         0.03424582]\n",
      "[0.9999857  0.09446712]\n",
      "[0.99989796 0.09372655]\n",
      "[0.98473644 0.11066525]\n",
      "[0.85611963 0.12699153]\n",
      "[0.8522148  0.15467305]\n",
      "[0.91249967 0.14909488]\n",
      "[0.93338203 0.1700085 ]\n",
      "[7.787330e-01 6.699562e-06]\n",
      "[8.095548e-01 7.283688e-06]\n",
      "[7.8012991e-01 6.0161354e-04]\n",
      "[0.67313266 0.01039801]\n",
      "[-0.90121496  0.32753858]\n",
      "[-0.9665681   0.37180752]\n",
      "[-0.99994206  0.39139014]\n",
      "[-0.999971    0.38643417]\n",
      "[-0.99994975  0.3753253 ]\n",
      "[-0.9997757   0.36009577]\n",
      "[-0.9986427   0.33421072]\n",
      "[-0.86099786  0.3651068 ]\n",
      "[-0.40734148  0.39517838]\n",
      "[-0.08298677  0.39880428]\n",
      "[-0.02029693  0.38861987]\n",
      "[INFO] [1653097266.530293, 11.557000]: Goal!!\n",
      "[0.09110367 0.30532548]\n",
      "[-0.9999395   0.39921924]\n",
      "[-0.99998665  0.39985618]\n",
      "[-0.9999986  0.3589159]\n",
      "[-0.22996974  0.19843893]\n",
      "[-0.31554103  0.21323024]\n",
      "[9.2310834e-01 2.5820733e-05]\n",
      "[9.11184549e-01 1.05369094e-04]\n",
      "[0.87657785 0.00295258]\n",
      "[0.88740015 0.00313218]\n",
      "[0.9012904  0.00286332]\n",
      "[0.9130906  0.00218532]\n",
      "[0.9255786  0.00141312]\n",
      "[-0.7743966   0.09300492]\n",
      "[-0.83498204  0.10386659]\n",
      "[0.13744402 0.31615368]\n",
      "[0.6553415 0.3804658]\n",
      "[0.21328163 0.3990313 ]\n",
      "[-0.6758314   0.39998227]\n",
      "[-0.1974212   0.39999747]\n",
      "[0.43791354 0.39957616]\n",
      "[0.29389584 0.39970818]\n",
      "[INFO] [1653097276.746175, 19.894000]: Collision!!\n",
      "[0.9937973  0.26568016]\n",
      "[0.9955028 0.2573295]\n",
      "[0.98348975 0.39997274]\n",
      "[0.90622103 0.3999894 ]\n",
      "[0.9657955  0.39999467]\n",
      "[0.95110416 0.39999375]\n",
      "[0.232185   0.39999938]\n",
      "[0.6144316  0.39999652]\n",
      "[0.9992218  0.39555308]\n",
      "[INFO] [1653097281.159664, 2.911000]: Collision!!\n",
      "[0.04611433 0.39999357]\n",
      "[0.04760122 0.39999297]\n",
      "[0.0485729  0.39999998]\n",
      "[0.10726011 0.39999995]\n",
      "[0.11260438 0.39999977]\n",
      "[0.07958078 0.3999991 ]\n",
      "[0.06857359 0.39999923]\n",
      "[0.07588971 0.39999926]\n",
      "[INFO] [1653097285.331489, 2.532000]: Goal!!\n",
      "[0.6389283  0.11492205]\n",
      "[3.6855817e-01 5.9604645e-08]\n",
      "[6.9003463e-01 2.3207665e-04]\n",
      "[0.6100302  0.00468242]\n",
      "[0.8571968  0.00310578]\n",
      "[0.82208705 0.00303115]\n",
      "[0.87268996 0.00235063]\n",
      "[0.74952173 0.4       ]\n",
      "[0.7021799 0.4      ]\n",
      "[0.93028474 0.4       ]\n",
      "[0.9257386 0.4      ]\n",
      "[0.9976268  0.03667252]\n",
      "[0.99754465 0.0605628 ]\n",
      "[0.96583676 0.01047467]\n",
      "[INFO] [1653097291.980472, 8.146000]: Collision!!\n",
      "-435.54027999734336\n"
     ]
    }
   ],
   "source": [
    "t_reward = 0\n",
    "\n",
    "for i in range(10):\n",
    "\n",
    "    done = False\n",
    "    obs = env.reset()\n",
    "    ep_reward = 0\n",
    "\n",
    "    while not done:\n",
    "        action, _ = model.predict(obs, deterministic=True)\n",
    "        obs, reward, done, info = env.step(action)\n",
    "        # print(f\"Angle: {action[0]}\")\n",
    "\n",
    "        t_reward += reward\n",
    "        ep_reward += reward\n",
    "\n",
    "print(t_reward)\n"
   ]
  },
  {
   "cell_type": "code",
   "execution_count": null,
   "metadata": {},
   "outputs": [],
   "source": []
  }
 ],
 "metadata": {
  "interpreter": {
   "hash": "ad0e1e0751e4cc160a6a642e24774d488557f676fee55568e2a63715f0f65130"
  },
  "kernelspec": {
   "display_name": "Python 3.7.13 ('py37-venv')",
   "language": "python",
   "name": "python3"
  },
  "language_info": {
   "codemirror_mode": {
    "name": "ipython",
    "version": 3
   },
   "file_extension": ".py",
   "mimetype": "text/x-python",
   "name": "python",
   "nbconvert_exporter": "python",
   "pygments_lexer": "ipython3",
   "version": "3.7.13"
  }
 },
 "nbformat": 4,
 "nbformat_minor": 2
}
