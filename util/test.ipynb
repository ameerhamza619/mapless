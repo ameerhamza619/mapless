{
 "cells": [
  {
   "cell_type": "code",
   "execution_count": 4,
   "metadata": {},
   "outputs": [],
   "source": [
    "import rospy\n",
    "import time\n",
    "from geometry_msgs.msg import Twist\n",
    "from gazebo_msgs.msg import ModelState, ModelStates"
   ]
  },
  {
   "cell_type": "code",
   "execution_count": 5,
   "metadata": {},
   "outputs": [],
   "source": [
    "rospy.init_node('moving_obstacle')"
   ]
  },
  {
   "cell_type": "code",
   "execution_count": 7,
   "metadata": {},
   "outputs": [],
   "source": [
    "model = rospy.wait_for_message('gazebo/model_states', ModelStates)"
   ]
  },
  {
   "cell_type": "code",
   "execution_count": 9,
   "metadata": {},
   "outputs": [
    {
     "name": "stdout",
     "output_type": "stream",
     "text": [
      "['ground_plane', 'turtlebot3_square', 'obstacle', 'turtlebot3_burger']\n",
      "['ground_plane', 'turtlebot3_square', 'obstacle', 'turtlebot3_burger']\n",
      "['ground_plane', 'turtlebot3_square', 'obstacle', 'turtlebot3_burger']\n",
      "['ground_plane', 'turtlebot3_square', 'obstacle', 'turtlebot3_burger']\n"
     ]
    }
   ],
   "source": [
    "for i in range(len(model.name)):\n",
    "    print(model.name)"
   ]
  },
  {
   "cell_type": "code",
   "execution_count": 10,
   "metadata": {},
   "outputs": [],
   "source": [
    "obstacle = ModelState()"
   ]
  },
  {
   "cell_type": "code",
   "execution_count": 16,
   "metadata": {},
   "outputs": [],
   "source": [
    "obstacle.pose = model.pose[2]\n",
    "obstacle.twist = Twist()\n",
    "obstacle.twist.angular.z = 0.5\n",
    "pub_model.publish(obstacle)"
   ]
  },
  {
   "cell_type": "code",
   "execution_count": 17,
   "metadata": {},
   "outputs": [],
   "source": [
    "for i in range(100):\n",
    "    pub_model.publish(obstacle)"
   ]
  },
  {
   "cell_type": "code",
   "execution_count": 19,
   "metadata": {},
   "outputs": [],
   "source": [
    "def moving():\n",
    "    while not rospy.is_shutdown():\n",
    "        obstacle = ModelState()\n",
    "        model = rospy.wait_for_message('gazebo/model_states', ModelStates)\n",
    "        for i in range(len(model.name)):\n",
    "            if model.name[i] == 'obstacle':\n",
    "                obstacle.model_name = 'obstacle'\n",
    "                obstacle.pose = model.pose[i]\n",
    "                obstacle.twist = Twist()\n",
    "                obstacle.twist.angular.z = 0.5\n",
    "                pub_model.publish(obstacle)\n",
    "                time.sleep(0.1)"
   ]
  },
  {
   "cell_type": "code",
   "execution_count": 20,
   "metadata": {},
   "outputs": [
    {
     "name": "stderr",
     "output_type": "stream",
     "text": [
      "Exception in thread /gazebo/model_states:\n",
      "Traceback (most recent call last):\n",
      "  File \"/usr/lib/python3.7/threading.py\", line 926, in _bootstrap_inner\n",
      "    self.run()\n",
      "  File \"/usr/lib/python3.7/threading.py\", line 870, in run\n",
      "    self._target(*self._args, **self._kwargs)\n",
      "  File \"/opt/ros/noetic/lib/python3/dist-packages/rospy/impl/tcpros_pubsub.py\", line 185, in robust_connect_subscriber\n",
      "    conn.receive_loop(receive_cb)\n",
      "  File \"/opt/ros/noetic/lib/python3/dist-packages/rospy/impl/tcpros_base.py\", line 846, in receive_loop\n",
      "    self.close()\n",
      "  File \"/opt/ros/noetic/lib/python3/dist-packages/rospy/impl/tcpros_base.py\", line 858, in close\n",
      "    self.socket.close()\n",
      "AttributeError: 'NoneType' object has no attribute 'close'\n",
      "\n"
     ]
    },
    {
     "ename": "KeyboardInterrupt",
     "evalue": "",
     "output_type": "error",
     "traceback": [
      "\u001b[0;31m---------------------------------------------------------------------------\u001b[0m",
      "\u001b[0;31mKeyboardInterrupt\u001b[0m                         Traceback (most recent call last)",
      "\u001b[0;32m/tmp/ipykernel_36851/3715209349.py\u001b[0m in \u001b[0;36m<module>\u001b[0;34m\u001b[0m\n\u001b[0;32m----> 1\u001b[0;31m \u001b[0mmoving\u001b[0m\u001b[0;34m(\u001b[0m\u001b[0;34m)\u001b[0m\u001b[0;34m\u001b[0m\u001b[0;34m\u001b[0m\u001b[0m\n\u001b[0m",
      "\u001b[0;32m/tmp/ipykernel_36851/4042080842.py\u001b[0m in \u001b[0;36mmoving\u001b[0;34m()\u001b[0m\n\u001b[1;32m     10\u001b[0m                 \u001b[0mobstacle\u001b[0m\u001b[0;34m.\u001b[0m\u001b[0mtwist\u001b[0m\u001b[0;34m.\u001b[0m\u001b[0mangular\u001b[0m\u001b[0;34m.\u001b[0m\u001b[0mz\u001b[0m \u001b[0;34m=\u001b[0m \u001b[0;36m0.5\u001b[0m\u001b[0;34m\u001b[0m\u001b[0;34m\u001b[0m\u001b[0m\n\u001b[1;32m     11\u001b[0m                 \u001b[0mpub_model\u001b[0m\u001b[0;34m.\u001b[0m\u001b[0mpublish\u001b[0m\u001b[0;34m(\u001b[0m\u001b[0mobstacle\u001b[0m\u001b[0;34m)\u001b[0m\u001b[0;34m\u001b[0m\u001b[0;34m\u001b[0m\u001b[0m\n\u001b[0;32m---> 12\u001b[0;31m                 \u001b[0mtime\u001b[0m\u001b[0;34m.\u001b[0m\u001b[0msleep\u001b[0m\u001b[0;34m(\u001b[0m\u001b[0;36m0.1\u001b[0m\u001b[0;34m)\u001b[0m\u001b[0;34m\u001b[0m\u001b[0;34m\u001b[0m\u001b[0m\n\u001b[0m",
      "\u001b[0;31mKeyboardInterrupt\u001b[0m: "
     ]
    }
   ],
   "source": [
    "moving()"
   ]
  },
  {
   "cell_type": "code",
   "execution_count": null,
   "metadata": {},
   "outputs": [],
   "source": []
  }
 ],
 "metadata": {
  "interpreter": {
   "hash": "ce441be982dbd557a0a4ba6641683b30f6276f738db3771d185ce9e0320121a8"
  },
  "kernelspec": {
   "display_name": "Python 3.7.11 ('tf15')",
   "language": "python",
   "name": "python3"
  },
  "language_info": {
   "codemirror_mode": {
    "name": "ipython",
    "version": 3
   },
   "file_extension": ".py",
   "mimetype": "text/x-python",
   "name": "python",
   "nbconvert_exporter": "python",
   "pygments_lexer": "ipython3",
   "version": "3.7.13"
  },
  "orig_nbformat": 4
 },
 "nbformat": 4,
 "nbformat_minor": 2
}
